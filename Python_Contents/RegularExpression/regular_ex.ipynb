{
 "cells": [
  {
   "cell_type": "code",
   "execution_count": 2,
   "metadata": {},
   "outputs": [],
   "source": [
    "import re\n",
    "str1 = 'an example word:basadf and'"
   ]
  },
  {
   "cell_type": "code",
   "execution_count": 3,
   "metadata": {},
   "outputs": [],
   "source": [
    "st = 'an example word:ba and'"
   ]
  },
  {
   "cell_type": "code",
   "execution_count": 4,
   "metadata": {},
   "outputs": [
    {
     "name": "stdout",
     "output_type": "stream",
     "text": [
      "word:bas\n"
     ]
    }
   ],
   "source": [
    "match = re.search(r'word:\\w\\w\\w', str1)\n",
    "print(match.group())"
   ]
  },
  {
   "cell_type": "code",
   "execution_count": 5,
   "metadata": {},
   "outputs": [
    {
     "name": "stdout",
     "output_type": "stream",
     "text": [
      "example word:basadf and\n"
     ]
    }
   ],
   "source": [
    "match=re.search(r'exa.*',str1)\n",
    "print(match.group())"
   ]
  },
  {
   "cell_type": "code",
   "execution_count": 22,
   "metadata": {},
   "outputs": [
    {
     "name": "stdout",
     "output_type": "stream",
     "text": [
      "an example word:basadf and\n",
      "<_sre.SRE_Match object; span=(0, 26), match='an example word:basadf and'>\n"
     ]
    }
   ],
   "source": [
    "match=re.search(r'^an.*',str1)\n",
    "print(match.group())\n",
    "print(match)"
   ]
  },
  {
   "cell_type": "code",
   "execution_count": 7,
   "metadata": {},
   "outputs": [
    {
     "name": "stdout",
     "output_type": "stream",
     "text": [
      "iin\n"
     ]
    }
   ],
   "source": [
    "match = re.search(r'iin', 'riiing') \n",
    "print(match.group())"
   ]
  },
  {
   "cell_type": "code",
   "execution_count": 24,
   "metadata": {},
   "outputs": [
    {
     "name": "stdout",
     "output_type": "stream",
     "text": [
      "iidg\n"
     ]
    }
   ],
   "source": [
    "match = re.search(r'..d.', 'riiidgjh')\n",
    "print(match.group())"
   ]
  },
  {
   "cell_type": "code",
   "execution_count": 28,
   "metadata": {},
   "outputs": [
    {
     "name": "stdout",
     "output_type": "stream",
     "text": [
      "12\n"
     ]
    }
   ],
   "source": [
    "match = re.search(r'\\d\\d', 'p12g567')\n",
    "print(match.group())"
   ]
  },
  {
   "cell_type": "code",
   "execution_count": 29,
   "metadata": {},
   "outputs": [
    {
     "name": "stdout",
     "output_type": "stream",
     "text": [
      "abc\n"
     ]
    }
   ],
   "source": [
    "match = re.search(r'\\w\\w\\w', '@@abcd!!')\n",
    "print(match.group())\n"
   ]
  },
  {
   "cell_type": "code",
   "execution_count": 34,
   "metadata": {},
   "outputs": [
    {
     "name": "stdout",
     "output_type": "stream",
     "text": [
      "riii\n"
     ]
    }
   ],
   "source": [
    "match = re.search(r'ri+', 'rrriiigiii') \n",
    "print(match.group())"
   ]
  },
  {
   "cell_type": "code",
   "execution_count": 47,
   "metadata": {},
   "outputs": [
    {
     "name": "stdout",
     "output_type": "stream",
     "text": [
      "rirriiri\n"
     ]
    }
   ],
   "source": [
    "#match = re.search(r'r+i+', 'rrriiig') \n",
    "match = re.search(r'[ri]+', 'rirriirig')  ## *****\n",
    "print(match.group())"
   ]
  },
  {
   "cell_type": "code",
   "execution_count": 13,
   "metadata": {},
   "outputs": [
    {
     "name": "stdout",
     "output_type": "stream",
     "text": [
      "riiiggggg\n"
     ]
    }
   ],
   "source": [
    "match = re.search(r'[irg]+', 'riiiggggg') ##\n",
    "print(match.group())"
   ]
  },
  {
   "cell_type": "code",
   "execution_count": 57,
   "metadata": {},
   "outputs": [
    {
     "name": "stdout",
     "output_type": "stream",
     "text": [
      "iii\n"
     ]
    }
   ],
   "source": [
    "match = re.search(r'[i]+', 'rsdcghiii')\n",
    "print(match.group())"
   ]
  },
  {
   "cell_type": "code",
   "execution_count": 58,
   "metadata": {},
   "outputs": [
    {
     "name": "stdout",
     "output_type": "stream",
     "text": [
      "1 2   3\n",
      "1  23\n",
      "1 2   3\n"
     ]
    }
   ],
   "source": [
    "match = re.search(r'\\d\\s*\\d\\s*\\d', 'xx1 2   3xx')\n",
    "print(match.group())\n",
    "match = re.search(r'\\d\\s*\\d\\s*\\d', 'xx1  23xx')\n",
    "print(match.group())\n",
    "match = re.search(r'\\d\\s*\\d\\s+\\d', 'xx1 2   3xx')\n",
    "print(match.group())\n",
    "#match = re.search(r'\\d\\s*\\d\\s+\\d', 'xx1 23xx')\n",
    "#print(match.group())\n"
   ]
  },
  {
   "cell_type": "code",
   "execution_count": 61,
   "metadata": {},
   "outputs": [
    {
     "name": "stdout",
     "output_type": "stream",
     "text": [
      "foob\n"
     ]
    }
   ],
   "source": [
    "match = re.search(r'^f\\w+', 'foob@ar')\n",
    "print(match.group())"
   ]
  },
  {
   "cell_type": "code",
   "execution_count": 64,
   "metadata": {},
   "outputs": [
    {
     "name": "stdout",
     "output_type": "stream",
     "text": [
      "rat10000023\n",
      "real time rat10000023\n"
     ]
    }
   ],
   "source": [
    "S='real time rat10000023'\n",
    "ptr=r'[a-z]+\\d+'\n",
    "ptr1=r'[a-z]+[\\s]+[a-z]+[\\s]+[a-z]+\\d+'\n",
    "match=re.search(ptr,S)\n",
    "print(match.group())\n",
    "match=re.search(ptr1,S)\n",
    "print(match.group())"
   ]
  },
  {
   "cell_type": "code",
   "execution_count": 66,
   "metadata": {},
   "outputs": [
    {
     "name": "stdout",
     "output_type": "stream",
     "text": [
      "Skalwa404@gmail.com\n"
     ]
    }
   ],
   "source": [
    "S='real time Skalwa404@gmail.com'\n",
    "ptr=r'[a-z0-9A-Z]+@[\\w]+.[\\w]+'\n",
    "match=re.search(ptr,S)\n",
    "print(match.group())"
   ]
  },
  {
   "cell_type": "code",
   "execution_count": 69,
   "metadata": {},
   "outputs": [
    {
     "name": "stdout",
     "output_type": "stream",
     "text": [
      "Mohammed Akthar kazi aktharkazi@realtimesig.com 10254850\n"
     ]
    }
   ],
   "source": [
    "S1=\"Mohammed Akthar kazi aktharkazi@realtimesig.com 10254850\"\n",
    "ptr=r'[a-zA-Z].+@[a-z]+.[a-z].+'\n",
    "match=re.search(ptr,S1)\n",
    "print(match.group())"
   ]
  },
  {
   "cell_type": "code",
   "execution_count": 72,
   "metadata": {},
   "outputs": [
    {
     "name": "stdout",
     "output_type": "stream",
     "text": [
      "['aktharkazi@realtimesig.com', 'jagdishkhatri@realtimesig.com']\n",
      "[('aktharkazi', 'realtimesig', 'com'), ('jagdishkhatri', 'realtimesig', 'com')]\n"
     ]
    }
   ],
   "source": [
    "S1=\"Mohammed Akthar kazi aktharkazi@realtimesig.com 10254850 jagdishkhatri@realtimesig.com\"\n",
    "ptr=r'([a-z]+)@([a-z]+)\\.([a-z]+)'\n",
    "ptr1=r'[a-z]+@[a-z]+.[a-z]+'\n",
    "#match=re.findall(r'([\\w\\.-]+)@([\\w\\.-]+)',S1)\n",
    "match1=re.findall(ptr,S1)\n",
    "match=re.findall(ptr1,S1)\n",
    "print(match)\n",
    "print(match1)"
   ]
  },
  {
   "cell_type": "code",
   "execution_count": 82,
   "metadata": {},
   "outputs": [
    {
     "ename": "SyntaxError",
     "evalue": "invalid syntax (<ipython-input-82-5c47f52794cc>, line 6)",
     "traceback": [
      "\u001b[1;36m  File \u001b[1;32m\"<ipython-input-82-5c47f52794cc>\"\u001b[1;36m, line \u001b[1;32m6\u001b[0m\n\u001b[1;33m    print re.sub(r'.@([\\w\\.-]+)', r'.@yo-yo-dyne.com+.', str1)\u001b[0m\n\u001b[1;37m           ^\u001b[0m\n\u001b[1;31mSyntaxError\u001b[0m\u001b[1;31m:\u001b[0m invalid syntax\n"
     ],
     "output_type": "error"
    }
   ],
   "source": [
    "str1 = 'purple alice@google.com, blah monkey bob@abc.com blah dishwasher'\n",
    "## re.sub(patern, replcement, str) -- returns new string with all replacements,\n",
    "## \\1 is group(1), \\2 group(2) in the replacement\n",
    "#print re.sub(r'([\\w\\.]+)@([\\w]+.[\\w]+)', r'.[\\s]+.[\\s].+[\\w]+@yo-yo-dyne.com', str1)\n",
    "## purple alice@yo-yo-dyne.com, blah monkey bob@yo-yo-dyne.com blah dishwasher\n",
    "print re.sub(r'.@([\\w\\.-]+)', r'.@yo-yo-dyne.com+.', str1)"
   ]
  },
  {
   "cell_type": "code",
   "execution_count": 75,
   "metadata": {},
   "outputs": [
    {
     "ename": "SyntaxError",
     "evalue": "invalid syntax (<ipython-input-75-972b72aa39e3>, line 2)",
     "traceback": [
      "\u001b[1;36m  File \u001b[1;32m\"<ipython-input-75-972b72aa39e3>\"\u001b[1;36m, line \u001b[1;32m2\u001b[0m\n\u001b[1;33m    print re.sub(r'@+[\\w]+.[\\w]+', r'@yo-yo-dyne.com', str1)\u001b[0m\n\u001b[1;37m           ^\u001b[0m\n\u001b[1;31mSyntaxError\u001b[0m\u001b[1;31m:\u001b[0m invalid syntax\n"
     ],
     "output_type": "error"
    }
   ],
   "source": [
    "str1 = 'purple alice@google.com, blah monkey bob@abc.com blah dishwasher'\n",
    "print re.sub(r'@+[\\w]+.[\\w]+', r'@yo-yo-dyne.com', str1)\n",
    "\n",
    "\n",
    "str1 = 'purple alice@google.com, blah monkey bob@abc.com blah dishwasher'\n",
    "print re.sub(r'([\\w\\.]+)@([\\w\\.]+)', r'Jagdish@\\2', str1);"
   ]
  },
  {
   "cell_type": "code",
   "execution_count": null,
   "metadata": {},
   "outputs": [],
   "source": [
    "s='my name is jagdish and pincode is 334003 phone number is 7022090022 and email id is ram1249@gmail.com'"
   ]
  },
  {
   "cell_type": "code",
   "execution_count": null,
   "metadata": {},
   "outputs": [],
   "source": [
    "import re\n",
    "s='my name is jagdish and pincode is 334003 phone number is 7022090022 and email id is ram1249@gmail.com'\n",
    "match = re.search(r'\\w\\w\\w\\w\\w\\w\\w',s)\n",
    "print(match.group())"
   ]
  },
  {
   "cell_type": "code",
   "execution_count": null,
   "metadata": {},
   "outputs": [],
   "source": [
    "import re\n",
    "s='my name is jagdish and pincode is 334003 phone number is 7022090022 and email id is ram1249@gmail.com'\n",
    "match = re.search(r'jag.*',s)\n",
    "print(match.group())"
   ]
  },
  {
   "cell_type": "code",
   "execution_count": null,
   "metadata": {},
   "outputs": [],
   "source": [
    "import re\n",
    "s='my name is jagdish and pincode is 334003 phone number is 7022090022 and email id is ram1249@gmail.com'\n",
    "match = re.search(r'\\w+\\s*\\d+',s)\n",
    "print(match.group())"
   ]
  },
  {
   "cell_type": "code",
   "execution_count": null,
   "metadata": {},
   "outputs": [],
   "source": [
    "import re\n",
    "s='my name is jagdish and pincode is 334003 phone number is 7022090022 and email id is ram1249@gmail.com'\n",
    "match = re.search(r'\\w\\w\\w\\w\\w\\w\\w'r'\\w+\\s*\\d+',s)\n",
    "print(match.group())"
   ]
  },
  {
   "cell_type": "code",
   "execution_count": null,
   "metadata": {},
   "outputs": [],
   "source": [
    "import re\n",
    "s='my name is jagdish and pincode is 334003 phone number is 7022090022 and email id is ram1249@gmail.com'\n",
    "match = re.search(r'[a-z0-9]+@\\w+.\\w+',s)\n",
    "print(match.group())"
   ]
  },
  {
   "cell_type": "code",
   "execution_count": null,
   "metadata": {},
   "outputs": [],
   "source": []
  }
 ],
 "metadata": {
  "kernelspec": {
   "display_name": "Python 3",
   "language": "python",
   "name": "python3"
  },
  "language_info": {
   "codemirror_mode": {
    "name": "ipython",
    "version": 3
   },
   "file_extension": ".py",
   "mimetype": "text/x-python",
   "name": "python",
   "nbconvert_exporter": "python",
   "pygments_lexer": "ipython3",
   "version": "3.6.5"
  }
 },
 "nbformat": 4,
 "nbformat_minor": 2
}
